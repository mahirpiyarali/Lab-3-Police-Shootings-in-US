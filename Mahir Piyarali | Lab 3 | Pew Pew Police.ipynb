{
 "cells": [
  {
   "cell_type": "markdown",
   "metadata": {},
   "source": [
    "# Analysis of Police Shootings in America | Mahir Piyarali"
   ]
  },
  {
   "cell_type": "code",
   "execution_count": 59,
   "metadata": {
    "collapsed": true
   },
   "outputs": [],
   "source": [
    "import pandas as pd\n",
    "import matplotlib.pyplot as plt\n",
    "import numpy as np\n",
    "from scipy import stats"
   ]
  },
  {
   "cell_type": "markdown",
   "metadata": {},
   "source": [
    "## Analysis 1"
   ]
  },
  {
   "cell_type": "markdown",
   "metadata": {},
   "source": [
    "### Black and White"
   ]
  },
  {
   "cell_type": "markdown",
   "metadata": {},
   "source": [
    "The first thing I wanted to look at within this data was the comparison between the amount of shootings of african americans and the amount of shootings of white people. I then also wanted to take those percentages and compare them to the census data for each race, and see if the amount of shootings per race are representative of the racial makeup of our country. I received census data from: http://worldpopulationreview.com/countries/united-states-population/."
   ]
  },
  {
   "cell_type": "markdown",
   "metadata": {},
   "source": [
    "#### Dataset Preparation"
   ]
  },
  {
   "cell_type": "code",
   "execution_count": 65,
   "metadata": {},
   "outputs": [],
   "source": [
    "shootingdata = pd.read_csv(\"added1.csv\",encoding=\"latin1\")\n",
    "racepcts = pd.read_csv(\"racestats.csv\",encoding=\"latin1\") #csv of census race stats\n",
    "shootingdata.sort_values(by=[\"State\",\"Victim's race\"],inplace=True)\n",
    "#the following code isolates the amount of deaths per state into a list so we can then correlate with the amount of deaths per race\n",
    "racesdata = shootingdata.groupby([\"Victim's race\"]).size().reset_index(name=\"Deaths\")\n",
    "racesdata\n",
    "totaldeaths = sum(racesdata[\"Deaths\"])\n",
    "tota = []\n",
    "for amt in racesdata[\"Deaths\"]: #this for loop calculates the percentage of deaths of each race (_% of shootings were of asians)\n",
    "    tot = amt / totaldeaths\n",
    "    tota.append(tot)\n",
    "tota[:]\n",
    "bkpct = round((tota[1]*100),2) #because the races are in alphabetical order, the black % is in the second row (1 in python)\n",
    "wtpct = round((tota[6]*100),2)# \" \" \" \" \" \" \" \" white % is in the seventh row (6 in python)\n",
    "totaa = []\n",
    "for pct in racepcts[\"pct\"]:\n",
    "    totaa.append(pct)"
   ]
  },
  {
   "cell_type": "markdown",
   "metadata": {},
   "source": [
    "#### Data Modeling"
   ]
  },
  {
   "cell_type": "code",
   "execution_count": 66,
   "metadata": {},
   "outputs": [
    {
     "name": "stdout",
     "output_type": "stream",
     "text": [
      "12.6 % of americans are black; 27.03 % of people shot by police are black\n",
      "72.4 % of americans are white; 44.5 % of people shot by police are white\n"
     ]
    }
   ],
   "source": [
    "USbkpct = totaa[1]*100\n",
    "USwtpct = totaa[0]*100\n",
    "print(USbkpct,\"% of americans are black;\",bkpct,\"% of people shot by police are black\")\n",
    "print(USwtpct,\"% of americans are white;\",wtpct,\"% of people shot by police are white\")"
   ]
  },
  {
   "cell_type": "markdown",
   "metadata": {
    "collapsed": true
   },
   "source": [
    "These results show that, as a whole, black people have a higher percent chance of getting shot by the police opposed to a white person."
   ]
  },
  {
   "cell_type": "markdown",
   "metadata": {
    "scrolled": true
   },
   "source": [
    "## Analysis 2"
   ]
  },
  {
   "cell_type": "markdown",
   "metadata": {},
   "source": [
    "### Black and White, in the South"
   ]
  },
  {
   "cell_type": "markdown",
   "metadata": {},
   "source": [
    "I wanted to do was to look at the percentage of shootings that happened in Southeast of the United States compared with the percentage of shootings that occured in the rest of the country, and to compare african american percentages and white people percentages. I wanted to do this comparison to see if some of the stereotypes about aggressive policing being in the south is true or not. Because there are no specific boundaries that define the region of the \"southeast\", so in order to choose the 11 teams I looked at the schools in the SEC (southeastern athletic conference), and the states represented in the conference are what I used to determine the states."
   ]
  },
  {
   "cell_type": "markdown",
   "metadata": {},
   "source": [
    "#### Dataset Preparation"
   ]
  },
  {
   "cell_type": "code",
   "execution_count": 67,
   "metadata": {
    "scrolled": true
   },
   "outputs": [],
   "source": [
    "#this code isolates the racial breakdown within the SE\n",
    "southdata = pd.read_csv(\"south.csv\",encoding=\"latin1\") #new csv with the info of the 11 southern states\n",
    "southdata.sort_values(by=[\"State\"],inplace=True)\n",
    "southstate = southdata.groupby([\"State\",\"Victim's race\"]).size().reset_index(name=\"Deaths\")\n",
    "ssrace = southdata.groupby([\"Victim's race\"]).size().reset_index(name=\"Deaths\")\n",
    "ssrace\n",
    "#the next code created variables for the amount of black deaths and the amount of white\n",
    "souct = []\n",
    "for ct in ssrace[\"Deaths\"]:\n",
    "    souct.append(ct)\n",
    "blkSEct = souct[1]\n",
    "wtSEct = souct[6]\n",
    "SEsum = sum(ssrace[\"Deaths\"])\n",
    "#print(wtSEct)\n",
    "#this code will read in a CSV of the SE states' population\n",
    "sepopulation = pd.read_csv(\"sestpop.csv\")\n",
    "blkpoppercent = sepopulation[\"bpop pct\"]\n",
    "blkpoppct = round(((sum(blkpoppercent) / 11)*100),2)"
   ]
  },
  {
   "cell_type": "markdown",
   "metadata": {},
   "source": [
    "#### Data Modeling"
   ]
  },
  {
   "cell_type": "code",
   "execution_count": 68,
   "metadata": {},
   "outputs": [
    {
     "name": "stdout",
     "output_type": "stream",
     "text": [
      "the total percent of black people in the southeast is 21.46 and the percent of black people that were shot by cops in the southeast is 32.03\n"
     ]
    }
   ],
   "source": [
    "#this code will give us the percentages of total killings that were of black people\n",
    "blkSEpct = round(((blkSEct/SEsum)*100),2)\n",
    "print(\"the total percent of black people in the southeast is\",blkpoppct,\"and the percent of black people that were shot by cops in the southeast is\",blkSEpct)"
   ]
  },
  {
   "cell_type": "markdown",
   "metadata": {},
   "source": [
    "This data confirms the notion that African Americans are more likely to get shot in the Southeast."
   ]
  },
  {
   "cell_type": "markdown",
   "metadata": {},
   "source": [
    "## Analysis 3"
   ]
  },
  {
   "cell_type": "markdown",
   "metadata": {},
   "source": [
    "### Police Shootings By State vs. Gun Ownership Percentage By State"
   ]
  },
  {
   "cell_type": "markdown",
   "metadata": {},
   "source": [
    "I chose to look at the comparison between the percentage of each state's population that owns a gun and the total amount of police shootings in that state. I chose to do this comparison without using race, age, gender, or any other variables. I chose to solely look at the total amount of shootings by state and the percentage of that state that owns a gun. For this analysis, I accessed gun ownership data from the Washington Post: http://www.washingtonpost.com/wp-srv/health/interactives/guns/ownership.html"
   ]
  },
  {
   "cell_type": "markdown",
   "metadata": {},
   "source": [
    "#### Dataset Preparation"
   ]
  },
  {
   "cell_type": "code",
   "execution_count": 69,
   "metadata": {},
   "outputs": [],
   "source": [
    "#the following code reads in the CSV with gun ownership information, then isolates the list of percentages for the plot\n",
    "gunownerpctdata = pd.read_csv(\"gunownerpct.csv\", encoding=\"latin-1\")\n",
    "percentages = gunownerpctdata[\"% that owns guns\"]\n",
    "#the following code isolates the amount of deaths per state, so we can compare with the gun owner stats per state\n",
    "shootingdata.sort_values(by=[\"State\"],inplace=True)\n",
    "statedeaths = shootingdata.groupby([\"State\"]).size().reset_index(name=\"Deaths\")\n",
    "statelist = []\n",
    "for count in statedeaths[\"Deaths\"]:\n",
    "    statelist.append(count)\n"
   ]
  },
  {
   "cell_type": "markdown",
   "metadata": {},
   "source": [
    "#### Data Modeling"
   ]
  },
  {
   "cell_type": "code",
   "execution_count": 70,
   "metadata": {},
   "outputs": [
    {
     "data": {
      "image/png": "[encoded data removed]",
      "text/plain": [
       "<matplotlib.figure.Figure at 0x114831898>"
      ]
     },
     "metadata": {},
     "output_type": "display_data"
    },
    {
     "name": "stdout",
     "output_type": "stream",
     "text": [
      "r: -0.0694432861688 , rsquared: 0.00482236999392 , slope: -0.736832477567\n"
     ]
    }
   ],
   "source": [
    "plt.plot(percentages, statelist, \"rx\") #making a scatterplot of deaths in state on xaxis, gun percentages on yaxis\n",
    "plt.xlabel(\"percentage of state population that owns a gun\")\n",
    "plt.ylabel(\"number of police shootings\")\n",
    "plt.title(\"gun ownership compared to police shootings\")\n",
    "plt.show()\n",
    "def best_fit(percentages, statelist):\n",
    "\n",
    "    xbar = sum(percentages)/len(percentages)\n",
    "    ybar = sum(statelist)/len(statelist)\n",
    "    n = len(percentages) # or len(Y)\n",
    "\n",
    "    numer = sum([xi*yi for xi,yi in zip(percentages, statelist)]) - n * xbar * ybar\n",
    "    denum = sum([xi**2 for xi in percentages]) - n * xbar**2\n",
    "\n",
    "    b = numer / denum\n",
    "    a = ybar - b * xbar\n",
    "\n",
    "\n",
    "    return a, b\n",
    "\n",
    "# solution\n",
    "a, b = best_fit(percentages, statelist)\n",
    "plt.plot(percentages,statelist,\"rx\")\n",
    "yfit = [a + b * xi for xi in statelist]\n",
    "plt.plot(percentages,yfit)\n",
    "x = percentages\n",
    "y = statelist\n",
    "slope, intercept, r_value, p_value, std_err = stats.linregress(x,y)\n",
    "print(\"r:\", r_value,\", rsquared:\", r_value**2, \", slope:\", slope)"
   ]
  },
  {
   "cell_type": "markdown",
   "metadata": {},
   "source": [
    "It appears to be like there's no correlation between gun ownership and police shootings. There are a few outliers (with significantly more shootings than gun ownership %), but they don't look like they're skewing any results, as the scatter remains even."
   ]
  },
  {
   "cell_type": "markdown",
   "metadata": {},
   "source": [
    "## Final Results/Analysis"
   ]
  },
  {
   "cell_type": "markdown",
   "metadata": {},
   "source": [
    "### Analysis 1 - Black vs. White\n",
    "There's a sterotype that if someone is african american, they have a higher chance of getting shot by the cops. I decided to do an analysis computing the total percentage of police shootings that were of black people (27%) and white people (44.5%). I then decided to compare these percentages to the overall percent of black and white people in the entire US. Hopefully, we'd see the population percentages by race roughly match with the shootings. However, we see that America is only 12% black, but black people have a 27% chance of being shot. This means that, as an individual black person, they have a higher chance of getting shot by the police compared to an individual white person.\n",
    "\n",
    "Though we've reached the conclusion that black people have a higher chance of getting shot compared to white people, there is one part of bias I want to mention. The US racial population data that I used were from the US census back in 2010. Though this isn't too outdated, there's a chance that the african american population in the US has gone up since then.\n",
    "\n",
    "I do wish that, with more time and coding information, I could break down these percentages state by state."
   ]
  },
  {
   "cell_type": "markdown",
   "metadata": {},
   "source": [
    "### Analysis 2 - Black vs. White in SE\n",
    "I wanted to dive further into the comparison of black and white deaths, but examime them in one specific region of the US; the southeast. Generally speaking the southeast of the united states is more racist, and more oppressive, than the rest of the country. To test this, I decided to isolate the percentages by race of each shooting in the 11 states that  I defined as the Southeast. I then isolated the black percentage of people shot (32%), and compared with the percentage of the south that's black (21%). This further confirmed the notion that african americans have a higher chance of being shot by cops.\n",
    "\n",
    "I also don't see any bias in these results. Ms. Sconyers provided the state percentage data I used, and though I don't know *when* the data was recorded, I have no reason to believe it's false.\n",
    "\n",
    "I do wish that, with more time and coding information, I could break down these percentages state by state."
   ]
  },
  {
   "cell_type": "markdown",
   "metadata": {},
   "source": [
    "### Analysis 3 - Gun Ownership\n",
    "I wanted to next analyze if there's any correlation between the percent of each state's population who owns guns and their total number of police shootings. I created a scatterplot, and it shows that there actually is no correlation. With an r-value of -0.06, it shows that there is no relationship whatsoever between the percentage of each state that owns a gun, and that state's total number of police shootings.\n",
    "\n",
    "I don't see any bias either, as all the information I recieved was reliable (gun owner data from Washington Post). \n",
    "\n",
    "I do wish that I could further break down these percentages by race, to see if being a certain race with a gun leads to more shootings."
   ]
  },
  {
   "cell_type": "markdown",
   "metadata": {},
   "source": [
    "## References"
   ]
  },
  {
   "cell_type": "markdown",
   "metadata": {
    "collapsed": true
   },
   "source": [
    "Ms. Sconyers\n",
    " - helped me get the groupby code that was integral to my project\n",
    "Doran\n",
    " - gave me his code to create a line of best fit within a scatter plot\n"
   ]
  },
  {
   "cell_type": "markdown",
   "metadata": {
    "collapsed": true
   },
   "source": [
    "## External Sources"
   ]
  },
  {
   "cell_type": "markdown",
   "metadata": {
    "collapsed": true
   },
   "source": [
    "I got the gun owner % data per state from the washington post: http://www.washingtonpost.com/wp-srv/health/interactives/guns/ownership.html\n",
    "I got the US census percentages from wikipedia: https://en.wikipedia.org/wiki/Demography_of_the_United_States\n"
   ]
  }
 ],
 "metadata": {
  "kernelspec": {
   "display_name": "Python 3",
   "language": "python",
   "name": "python3"
  },
  "language_info": {
   "codemirror_mode": {
    "name": "ipython",
    "version": 3
   },
   "file_extension": ".py",
   "mimetype": "text/x-python",
   "name": "python",
   "nbconvert_exporter": "python",
   "pygments_lexer": "ipython3",
   "version": "3.6.1"
  }
 },
 "nbformat": 4,
 "nbformat_minor": 2
}
